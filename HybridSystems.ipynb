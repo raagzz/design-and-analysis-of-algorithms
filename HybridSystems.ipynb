{
 "cells": [
  {
   "cell_type": "markdown",
   "source": [
    "# Personal Loan Prediction using ANN-EA Hybrid Systems"
   ],
   "metadata": {
    "collapsed": false
   }
  },
  {
   "cell_type": "markdown",
   "source": [
    "## Introduction"
   ],
   "metadata": {
    "collapsed": false
   }
  },
  {
   "cell_type": "markdown",
   "source": [
    "The dataset contains data on 5000 customers including demographic information, the customer's relationship with the bank and the customer response to the last personal loan campaign."
   ],
   "metadata": {
    "collapsed": false
   }
  },
  {
   "cell_type": "markdown",
   "source": [
    "The **GOAL** is to predict the likelihood of a liability customer buying personal loans."
   ],
   "metadata": {
    "collapsed": false
   }
  },
  {
   "cell_type": "markdown",
   "source": [
    "This prediction task will be done using Neural Networks and the optimization of weights, instead of being done by back-propagation (gradient descent method), will be done using:\n",
    "- Genetic Algorithm\n",
    "- Cultural Algorithm\n",
    "- Particle Swarm Optimization\n",
    "- Ant Colony Optimization"
   ],
   "metadata": {
    "collapsed": false
   }
  },
  {
   "cell_type": "markdown",
   "source": [
    "## Data Preprocessing"
   ],
   "metadata": {
    "collapsed": false
   }
  },
  {
   "cell_type": "markdown",
   "source": [
    "### Imports"
   ],
   "metadata": {
    "collapsed": false
   }
  },
  {
   "cell_type": "code",
   "execution_count": 1,
   "outputs": [],
   "source": [
    "import random\n",
    "import numpy as np\n",
    "import pandas as pd\n",
    "from imblearn.over_sampling import SMOTE\n",
    "from sklearn import metrics\n",
    "from sklearn.model_selection import train_test_split\n",
    "from sklearn.preprocessing import StandardScaler\n",
    "\n",
    "import warnings\n",
    "warnings.filterwarnings(\"ignore\")"
   ],
   "metadata": {
    "collapsed": false,
    "ExecuteTime": {
     "start_time": "2023-04-05T21:16:04.725951Z",
     "end_time": "2023-04-05T21:16:05.721915Z"
    }
   }
  },
  {
   "cell_type": "markdown",
   "source": [
    "### Reading the Data"
   ],
   "metadata": {
    "collapsed": false
   }
  },
  {
   "cell_type": "code",
   "execution_count": 2,
   "outputs": [],
   "source": [
    "data = pd.read_csv(r'dataset/personal_loan.csv')"
   ],
   "metadata": {
    "collapsed": false,
    "ExecuteTime": {
     "start_time": "2023-04-05T21:16:05.707422Z",
     "end_time": "2023-04-05T21:16:05.728516Z"
    }
   }
  },
  {
   "cell_type": "code",
   "execution_count": 3,
   "outputs": [],
   "source": [
    "X = data.drop(['Personal Loan', 'ID', 'ZIP Code'], axis=1)\n",
    "y = data['Personal Loan'].values"
   ],
   "metadata": {
    "collapsed": false,
    "ExecuteTime": {
     "start_time": "2023-04-05T21:16:05.723122Z",
     "end_time": "2023-04-05T21:16:05.739136Z"
    }
   }
  },
  {
   "cell_type": "markdown",
   "source": [
    "### Oversampling"
   ],
   "metadata": {
    "collapsed": false
   }
  },
  {
   "cell_type": "code",
   "execution_count": 4,
   "outputs": [],
   "source": [
    "smote = SMOTE()\n",
    "X, y = smote.fit_resample(X, y)"
   ],
   "metadata": {
    "collapsed": false,
    "ExecuteTime": {
     "start_time": "2023-04-05T21:16:05.739136Z",
     "end_time": "2023-04-05T21:16:05.760307Z"
    }
   }
  },
  {
   "cell_type": "code",
   "execution_count": 5,
   "outputs": [],
   "source": [
    "x_train, x_test, y_train, y_test = train_test_split(X, y, test_size=0.2, random_state=1)"
   ],
   "metadata": {
    "collapsed": false,
    "ExecuteTime": {
     "start_time": "2023-04-05T21:16:05.753297Z",
     "end_time": "2023-04-05T21:16:05.771108Z"
    }
   }
  },
  {
   "cell_type": "code",
   "execution_count": 6,
   "outputs": [],
   "source": [
    "sc = StandardScaler()\n",
    "x_train = sc.fit_transform(x_train)\n",
    "x_test = sc.transform(x_test)"
   ],
   "metadata": {
    "collapsed": false,
    "ExecuteTime": {
     "start_time": "2023-04-05T21:16:05.851366Z",
     "end_time": "2023-04-05T21:16:05.863785Z"
    }
   }
  },
  {
   "cell_type": "markdown",
   "source": [
    "## Artificial Neural Networks"
   ],
   "metadata": {
    "collapsed": false
   }
  },
  {
   "cell_type": "code",
   "execution_count": 7,
   "outputs": [],
   "source": [
    "def sigmoid(z):\n",
    "    return 1.0 / (1 + np.exp(-z))\n",
    "\n",
    "def reLU(z):\n",
    "    return np.maximum(0.0, z)\n",
    "\n",
    "\n",
    "class NeuralNetwork:\n",
    "    def __init__(self, layer_size, weights):\n",
    "        self.input_size = layer_size[0]\n",
    "        self.hidden1_size = layer_size[1]\n",
    "        self.output_size = layer_size[2]\n",
    "\n",
    "        self.weights = weights\n",
    "\n",
    "        self.W1_size = self.input_size * self.hidden1_size\n",
    "        self.W2_size = self.hidden1_size * self.output_size\n",
    "\n",
    "        self.w1 = self.weights[:self.W1_size].reshape(self.input_size, self.hidden1_size)\n",
    "        self.w2 = self.weights[self.W1_size: self.W1_size + self.W2_size].reshape(self.hidden1_size, self.output_size)\n",
    "\n",
    "        self.biases = self.weights[self.W1_size + self.W2_size:]\n",
    "\n",
    "        self.b1 = self.biases[:self.hidden1_size]\n",
    "        self.b2 = self.biases[self.hidden1_size:self.hidden1_size + self.output_size]\n",
    "\n",
    "    def forwardPropagation(self, X):\n",
    "        self.z2 = np.dot(X, self.w1) + self.b1\n",
    "        self.a2 = reLU(self.z2)\n",
    "\n",
    "        self.z3 = np.dot(self.a2, self.w2) + self.b2\n",
    "        output = sigmoid(self.z3)\n",
    "\n",
    "        return output"
   ],
   "metadata": {
    "collapsed": false,
    "ExecuteTime": {
     "start_time": "2023-04-05T21:16:06.170080Z",
     "end_time": "2023-04-05T21:16:06.182678Z"
    }
   }
  },
  {
   "cell_type": "code",
   "execution_count": 8,
   "outputs": [],
   "source": [
    "layer_size = [11, 8, 1]\n",
    "tot_weights = layer_size[0] * layer_size[1] + \\\n",
    "              layer_size[1] * layer_size[2]\n",
    "tot_biases = layer_size[1] + layer_size[2]\n",
    "\n",
    "tot_length = tot_biases + tot_weights"
   ],
   "metadata": {
    "collapsed": false,
    "ExecuteTime": {
     "start_time": "2023-04-05T21:16:06.330210Z",
     "end_time": "2023-04-05T21:16:06.342831Z"
    }
   }
  },
  {
   "cell_type": "code",
   "execution_count": 9,
   "outputs": [],
   "source": [
    "def fitness(weight):\n",
    "    nn = NeuralNetwork(layer_size, weight)\n",
    "    y_pred = nn.forwardPropagation(x_train)\n",
    "    return metrics.accuracy_score(np.round(y_pred), y_train)"
   ],
   "metadata": {
    "collapsed": false,
    "ExecuteTime": {
     "start_time": "2023-04-05T21:16:06.490963Z",
     "end_time": "2023-04-05T21:16:06.521967Z"
    }
   }
  },
  {
   "cell_type": "markdown",
   "source": [
    "## Genetic Algorithm"
   ],
   "metadata": {
    "collapsed": false
   }
  },
  {
   "cell_type": "code",
   "execution_count": 10,
   "outputs": [],
   "source": [
    "population = 500\n",
    "epochs = 20\n",
    "pool_size = 20"
   ],
   "metadata": {
    "collapsed": false,
    "ExecuteTime": {
     "start_time": "2023-04-05T21:16:06.824006Z",
     "end_time": "2023-04-05T21:16:06.839634Z"
    }
   }
  },
  {
   "cell_type": "code",
   "execution_count": 20,
   "outputs": [],
   "source": [
    "def init_population():\n",
    "    weight_pop = []\n",
    "    for _ in range(population):\n",
    "        weight_pop.append(np.random.uniform(-2, 2, tot_length))\n",
    "\n",
    "    return np.array(weight_pop)\n",
    "\n",
    "np.random.seed(7)\n",
    "initial_population = init_population()"
   ],
   "metadata": {
    "collapsed": false,
    "ExecuteTime": {
     "start_time": "2023-04-05T21:18:51.427260Z",
     "end_time": "2023-04-05T21:18:51.460640Z"
    }
   }
  },
  {
   "cell_type": "code",
   "execution_count": 21,
   "outputs": [],
   "source": [
    "def random_selection(population):\n",
    "    mating_pool = population[:pool_size]\n",
    "    return mating_pool\n",
    "\n",
    "def crossover(mating_pool):\n",
    "    children = []\n",
    "\n",
    "    while len(mating_pool):\n",
    "        p1_index, p2_index = np.random.choice(mating_pool.shape[0], 2, replace=False)\n",
    "        p1, p2 = mating_pool[p1_index, :], mating_pool[p2_index, :]\n",
    "        r = random.uniform(0, 1)\n",
    "        s = random.uniform(-1, 0)\n",
    "        c1 = r * p1 + s * p2\n",
    "        c2 = s * p2 + r * p1\n",
    "        children.extend([c1, c2])\n",
    "        mating_pool = np.delete(mating_pool, [p1_index, p2_index], axis=0)\n",
    "    return np.array(children)\n",
    "\n",
    "def mutation(children):\n",
    "    mut_mat = np.random.uniform(0.75, 1.25, children.shape)\n",
    "    children = mut_mat * children\n",
    "    return children\n",
    "\n",
    "def replace_population(child_population, current_population):\n",
    "    next_population = np.append(current_population[:population - pool_size], child_population, axis=0)\n",
    "    next_population = np.array(sorted(next_population, key=lambda x: fitness(x), reverse=True))\n",
    "    return next_population"
   ],
   "metadata": {
    "collapsed": false,
    "ExecuteTime": {
     "start_time": "2023-04-05T21:18:51.975690Z",
     "end_time": "2023-04-05T21:18:52.007134Z"
    }
   }
  },
  {
   "cell_type": "code",
   "execution_count": 23,
   "outputs": [
    {
     "name": "stdout",
     "output_type": "stream",
     "text": [
      "Best fitness of Generation 1: 0.7733683628318584\n",
      "Best fitness of Generation 2: 0.7874723451327433\n",
      "Best fitness of Generation 3: 0.8084900442477876\n",
      "Best fitness of Generation 4: 0.8319966814159292\n",
      "Best fitness of Generation 5: 0.8319966814159292\n",
      "Best fitness of Generation 6: 0.8555033185840708\n",
      "Best fitness of Generation 7: 0.8680862831858407\n",
      "Best fitness of Generation 8: 0.8680862831858407\n",
      "Best fitness of Generation 9: 0.8680862831858407\n",
      "Best fitness of Generation 10: 0.8680862831858407\n",
      "Best fitness of Generation 11: 0.8733407079646017\n",
      "Best fitness of Generation 12: 0.8733407079646017\n",
      "Best fitness of Generation 13: 0.8733407079646017\n",
      "Best fitness of Generation 14: 0.8733407079646017\n",
      "Best fitness of Generation 15: 0.8733407079646017\n",
      "Best fitness of Generation 16: 0.8733407079646017\n",
      "Best fitness of Generation 17: 0.8769358407079646\n",
      "Best fitness of Generation 18: 0.8769358407079646\n",
      "Best fitness of Generation 19: 0.8769358407079646\n",
      "Best fitness of Generation 20: 0.8769358407079646\n"
     ]
    }
   ],
   "source": [
    "final = 0\n",
    "fit_plt = []\n",
    "current_population = np.array(sorted(initial_population, key=lambda x: fitness(x), reverse=True))\n",
    "for i in range(epochs):\n",
    "    mating_pool = random_selection(current_population)\n",
    "    children = crossover(mating_pool)\n",
    "    children = mutation(children)\n",
    "    current_population = replace_population(children, current_population)\n",
    "    final = current_population[0]\n",
    "    final_fit = fitness(final)\n",
    "    print(f\"Best fitness of Generation {i + 1}: {final_fit}\")\n",
    "    fit_plt.append(final_fit)"
   ],
   "metadata": {
    "collapsed": false,
    "ExecuteTime": {
     "start_time": "2023-04-05T21:19:12.025076Z",
     "end_time": "2023-04-05T21:19:28.201006Z"
    }
   }
  },
  {
   "cell_type": "code",
   "execution_count": 24,
   "outputs": [
    {
     "data": {
      "text/plain": "<Figure size 432x288 with 1 Axes>",
      "image/png": "[encoded data removed]"
     },
     "metadata": {
      "needs_background": "light"
     },
     "output_type": "display_data"
    }
   ],
   "source": [
    "import matplotlib.pyplot as plt\n",
    "plt.xlabel(\"Generations\")\n",
    "plt.ylabel('Accuracy')\n",
    "plt.ylim([0,1])\n",
    "plt.xticks(np.arange(1, epochs + 1))\n",
    "plt.plot(np.arange(1,epochs + 1), fit_plt)\n",
    "plt.show()"
   ],
   "metadata": {
    "collapsed": false,
    "ExecuteTime": {
     "start_time": "2023-04-05T21:19:30.941738Z",
     "end_time": "2023-04-05T21:19:31.037000Z"
    }
   }
  },
  {
   "cell_type": "code",
   "execution_count": 26,
   "outputs": [
    {
     "name": "stdout",
     "output_type": "stream",
     "text": [
      "              precision    recall  f1-score   support\n",
      "\n",
      "         0.0       0.81      0.92      0.86       771\n",
      "         1.0       0.94      0.84      0.89      1037\n",
      "\n",
      "    accuracy                           0.88      1808\n",
      "   macro avg       0.87      0.88      0.87      1808\n",
      "weighted avg       0.88      0.88      0.88      1808\n",
      "\n",
      "[[712  59]\n",
      " [167 870]]\n"
     ]
    }
   ],
   "source": [
    "nn = NeuralNetwork(layer_size, final)\n",
    "out = nn.forwardPropagation(x_test)\n",
    "print(metrics.classification_report(np.round(out), y_test))"
   ],
   "metadata": {
    "collapsed": false,
    "ExecuteTime": {
     "start_time": "2023-04-05T21:20:03.089626Z",
     "end_time": "2023-04-05T21:20:03.121591Z"
    }
   }
  },
  {
   "cell_type": "markdown",
   "source": [
    "## Cultural Algorithm"
   ],
   "metadata": {
    "collapsed": false
   }
  },
  {
   "cell_type": "code",
   "execution_count": 27,
   "outputs": [
    {
     "name": "stdout",
     "output_type": "stream",
     "text": [
      "Best fitness of Generation 1: 0.8091814159292036\n",
      "Best fitness of Generation 2: 0.8324115044247787\n",
      "Best fitness of Generation 3: 0.8429203539823009\n",
      "Best fitness of Generation 4: 0.8429203539823009\n",
      "Best fitness of Generation 5: 0.8454092920353983\n",
      "Best fitness of Generation 6: 0.8513550884955752\n",
      "Best fitness of Generation 7: 0.8545353982300885\n",
      "Best fitness of Generation 8: 0.8662887168141593\n",
      "Best fitness of Generation 9: 0.8709900442477876\n",
      "Best fitness of Generation 10: 0.8783185840707964\n",
      "Best fitness of Generation 11: 0.8790099557522124\n",
      "Best fitness of Generation 12: 0.8920077433628318\n",
      "Best fitness of Generation 13: 0.8936670353982301\n",
      "Best fitness of Generation 14: 0.8936670353982301\n",
      "Best fitness of Generation 15: 0.8936670353982301\n",
      "Best fitness of Generation 16: 0.8975387168141593\n",
      "Best fitness of Generation 17: 0.8975387168141593\n",
      "Best fitness of Generation 18: 0.8975387168141593\n",
      "Best fitness of Generation 19: 0.8975387168141593\n",
      "Best fitness of Generation 20: 0.8975387168141593\n"
     ]
    }
   ],
   "source": [
    "def acceptance(current_population):\n",
    "    belief_space = []\n",
    "    for i in current_population:\n",
    "        if np.abs(np.mean(i)) < 0.4:\n",
    "            belief_space.append(i)\n",
    "    belief_space = np.array(belief_space)\n",
    "    belief_child = crossover(belief_space)\n",
    "    belief_space = replace_population(belief_child, belief_space)\n",
    "\n",
    "    return belief_space\n",
    "\n",
    "fit_plt_ca = []\n",
    "final = 0\n",
    "current_population = np.array(sorted(initial_population, key=lambda x: fitness(x), reverse=True))\n",
    "belief_space = acceptance(current_population)\n",
    "for i in range(epochs):\n",
    "    mating_pool = random_selection(current_population)\n",
    "\n",
    "    children = crossover(mating_pool)\n",
    "    children = mutation(children)\n",
    "    current_population = replace_population(children, current_population)\n",
    "\n",
    "    belief_space = acceptance(current_population)\n",
    "    current_population = replace_population(belief_space, current_population)\n",
    "\n",
    "    final_ca = current_population[0]\n",
    "    final_fit_ca = fitness(final_ca)\n",
    "    print(f\"Best fitness of Generation {i + 1}: {final_fit_ca}\")\n",
    "    fit_plt_ca.append(final_fit_ca)"
   ],
   "metadata": {
    "collapsed": false,
    "ExecuteTime": {
     "start_time": "2023-04-05T21:20:13.543346Z",
     "end_time": "2023-04-05T21:21:56.192322Z"
    }
   }
  },
  {
   "cell_type": "code",
   "execution_count": 28,
   "outputs": [
    {
     "data": {
      "text/plain": "<Figure size 432x288 with 1 Axes>",
      "image/png": "[encoded data removed]"
     },
     "metadata": {
      "needs_background": "light"
     },
     "output_type": "display_data"
    }
   ],
   "source": [
    "import matplotlib.pyplot as plt\n",
    "plt.xlabel(\"Generations\")\n",
    "plt.ylabel('Accuracy')\n",
    "plt.ylim([0,1])\n",
    "plt.xticks(np.arange(1, epochs + 1))\n",
    "plt.plot(np.arange(1,epochs + 1), fit_plt_ca)\n",
    "plt.show()"
   ],
   "metadata": {
    "collapsed": false,
    "ExecuteTime": {
     "start_time": "2023-04-05T21:21:56.192322Z",
     "end_time": "2023-04-05T21:21:56.317453Z"
    }
   }
  },
  {
   "cell_type": "code",
   "execution_count": 29,
   "outputs": [
    {
     "name": "stdout",
     "output_type": "stream",
     "text": [
      "              precision    recall  f1-score   support\n",
      "\n",
      "         0.0       0.87      0.91      0.89       840\n",
      "         1.0       0.92      0.88      0.90       968\n",
      "\n",
      "    accuracy                           0.90      1808\n",
      "   macro avg       0.90      0.90      0.90      1808\n",
      "weighted avg       0.90      0.90      0.90      1808\n",
      "\n"
     ]
    }
   ],
   "source": [
    "nn = NeuralNetwork(layer_size, final_ca)\n",
    "out = nn.forwardPropagation(x_test)\n",
    "print(metrics.classification_report(np.round(out), y_test))"
   ],
   "metadata": {
    "collapsed": false,
    "ExecuteTime": {
     "start_time": "2023-04-05T21:21:56.319687Z",
     "end_time": "2023-04-05T21:21:56.363830Z"
    }
   }
  },
  {
   "cell_type": "markdown",
   "source": [
    "## Particle Swarm Optimization"
   ],
   "metadata": {
    "collapsed": false
   }
  },
  {
   "cell_type": "code",
   "execution_count": 30,
   "outputs": [],
   "source": [
    "generation = 20\n",
    "w = 0.5\n",
    "c1 = -1\n",
    "c2 = 2\n",
    "\n",
    "fit_plt_pso = []\n",
    "def pso():\n",
    "    particles = initial_population\n",
    "    velocities = np.zeros((population, tot_length))\n",
    "\n",
    "    pbest_pos = np.copy(particles)\n",
    "    pbest_fit = np.array([fitness(particle) for particle in particles])\n",
    "\n",
    "    gbest_pos = pbest_pos[np.argmax(pbest_fit)]\n",
    "    gbest_fit = np.max(pbest_fit)\n",
    "\n",
    "    for i in range(generation):\n",
    "        r1 = np.random.uniform(0, 1, (population, tot_length))\n",
    "        r2 = np.random.uniform(0, 1, (population, tot_length))\n",
    "\n",
    "        velocities = (w * velocities) + c1 * r1 * (pbest_pos - particles) + c2 * r2 * (gbest_pos - particles)\n",
    "\n",
    "        particles += velocities\n",
    "\n",
    "        particles_fit = np.array([fitness(particle) for particle in particles])\n",
    "\n",
    "        improved_indices = np.where(particles_fit < pbest_fit)\n",
    "        pbest_pos[improved_indices] = particles[improved_indices]\n",
    "        pbest_fit[improved_indices] = particles_fit[improved_indices]\n",
    "\n",
    "        if np.max(particles_fit) > gbest_fit:\n",
    "            gbest_pos = particles[np.argmax(particles_fit)]\n",
    "            gbest_fit = np.max(particles_fit)\n",
    "        print(f\"Best fitness of Generation {i + 1}: {gbest_fit}\")\n",
    "        fit_plt_pso.append(gbest_fit)\n",
    "    return gbest_pos, gbest_fit"
   ],
   "metadata": {
    "collapsed": false,
    "ExecuteTime": {
     "start_time": "2023-04-05T21:26:41.266428Z",
     "end_time": "2023-04-05T21:26:41.275502Z"
    }
   }
  },
  {
   "cell_type": "code",
   "execution_count": 31,
   "outputs": [
    {
     "name": "stdout",
     "output_type": "stream",
     "text": [
      "Best fitness of Generation 1: 0.8231471238938053\n",
      "Best fitness of Generation 2: 0.8732024336283186\n",
      "Best fitness of Generation 3: 0.8879977876106194\n",
      "Best fitness of Generation 4: 0.8942201327433629\n",
      "Best fitness of Generation 5: 0.9007190265486725\n",
      "Best fitness of Generation 6: 0.9040376106194691\n",
      "Best fitness of Generation 7: 0.9047289823008849\n",
      "Best fitness of Generation 8: 0.9081858407079646\n",
      "Best fitness of Generation 9: 0.9112278761061947\n",
      "Best fitness of Generation 10: 0.9137168141592921\n",
      "Best fitness of Generation 11: 0.9184181415929203\n",
      "Best fitness of Generation 12: 0.9204922566371682\n",
      "Best fitness of Generation 13: 0.9236725663716814\n",
      "Best fitness of Generation 14: 0.9268528761061947\n",
      "Best fitness of Generation 15: 0.9290652654867256\n",
      "Best fitness of Generation 16: 0.9304480088495575\n",
      "Best fitness of Generation 17: 0.9304480088495575\n",
      "Best fitness of Generation 18: 0.9304480088495575\n",
      "Best fitness of Generation 19: 0.9311393805309734\n",
      "Best fitness of Generation 20: 0.9325221238938053\n"
     ]
    }
   ],
   "source": [
    "pso_weight, pso_fitness = pso()"
   ],
   "metadata": {
    "collapsed": false,
    "ExecuteTime": {
     "start_time": "2023-04-05T21:26:41.681614Z",
     "end_time": "2023-04-05T21:26:58.445160Z"
    }
   }
  },
  {
   "cell_type": "code",
   "execution_count": 32,
   "outputs": [
    {
     "data": {
      "text/plain": "<Figure size 432x288 with 1 Axes>",
      "image/png": "[encoded data removed]"
     },
     "metadata": {
      "needs_background": "light"
     },
     "output_type": "display_data"
    }
   ],
   "source": [
    "import matplotlib.pyplot as plt\n",
    "plt.xlabel(\"Generations\")\n",
    "plt.ylabel('Accuracy')\n",
    "plt.ylim([0,1])\n",
    "plt.xticks(np.arange(1, epochs + 1))\n",
    "plt.plot(np.arange(1,epochs + 1), fit_plt_pso)\n",
    "plt.show()"
   ],
   "metadata": {
    "collapsed": false,
    "ExecuteTime": {
     "start_time": "2023-04-05T21:26:58.445160Z",
     "end_time": "2023-04-05T21:26:58.543491Z"
    }
   }
  },
  {
   "cell_type": "code",
   "execution_count": 33,
   "outputs": [
    {
     "name": "stdout",
     "output_type": "stream",
     "text": [
      "              precision    recall  f1-score   support\n",
      "\n",
      "         0.0       0.92      0.93      0.93       863\n",
      "         1.0       0.94      0.92      0.93       945\n",
      "\n",
      "    accuracy                           0.93      1808\n",
      "   macro avg       0.93      0.93      0.93      1808\n",
      "weighted avg       0.93      0.93      0.93      1808\n",
      "\n"
     ]
    }
   ],
   "source": [
    "nn = NeuralNetwork(layer_size, pso_weight)\n",
    "out = nn.forwardPropagation(x_test)\n",
    "print(metrics.classification_report(np.round(out), y_test))"
   ],
   "metadata": {
    "collapsed": false,
    "ExecuteTime": {
     "start_time": "2023-04-05T21:26:58.543491Z",
     "end_time": "2023-04-05T21:26:58.557485Z"
    }
   }
  },
  {
   "cell_type": "markdown",
   "source": [
    "## Ant Colony Optimization"
   ],
   "metadata": {
    "collapsed": false
   }
  },
  {
   "cell_type": "code",
   "execution_count": 34,
   "outputs": [],
   "source": [
    "ns = na = 100\n",
    "nd = tot_length\n",
    "ng = 20\n",
    "\n",
    "lb = np.full(nd, -10)\n",
    "ub = np.full(nd, 10)\n",
    "\n",
    "ants = initial_population[:na]\n",
    "x_aco = initial_population[0]\n",
    "rho = 0.05\n",
    "dec = 0.8\n",
    "inc = 0.4\n",
    "delta = 0.2\n",
    "\n",
    "def aco(xbest):\n",
    "    h = (ub - lb) / ns\n",
    "    T = np.ones((ns, nd))\n",
    "\n",
    "    xb = xbest\n",
    "    nb = np.random.randint(0, ns, nd)\n",
    "    for ant in ants:\n",
    "        n = np.random.randint(0, ns, nd)\n",
    "        x = lb + n * h\n",
    "        ant = x\n",
    "        if fitness(ant) > fitness(xb):\n",
    "            xb = ant\n",
    "            nb = n\n",
    "    for i in range(len(nb)):\n",
    "        T[nb[i], i] += 1\n",
    "\n",
    "    xbest = xb\n",
    "    nbest = nb\n",
    "    T_col_sum = T.sum(axis = 0)\n",
    "    T2 = T / T_col_sum\n",
    "    for ant in ants:\n",
    "        n = nb\n",
    "        nj = np.arange(ns)\n",
    "        for i in range(len(n)):\n",
    "            n[i] = np.random.choice(nj, p = T2[:ns, i])\n",
    "        x = lb + n * h\n",
    "        ant = x\n",
    "        if fitness(ant) > fitness(xb):\n",
    "            xb = ant\n",
    "            nb = n\n",
    "\n",
    "    T2 = (1 - rho) * T2\n",
    "    for i in range(len(nb)):\n",
    "        T2[nb[i], i] += 1\n",
    "    if fitness(xb) > fitness(xbest):\n",
    "            xbest = xb\n",
    "            nbest = nb\n",
    "\n",
    "    for j in range(len(nbest)):\n",
    "        d = inc * (ub[j] - lb[j])\n",
    "        if nbest[j] <(delta * ns):\n",
    "            lb[j] = max(xbest[j] - d, -10)\n",
    "        elif (delta * ns) <= nbest[j] <= ((1 - delta) * ns):\n",
    "            lb[j] = dec * lb[j] + ((1 - dec) * xbest[j])\n",
    "            ub[j] = dec * ub[j] + ((1 - dec) * xbest[j])\n",
    "        elif nbest[j] > ((1 - delta) * ns):\n",
    "            ub[j] = min(xbest[j] + d, 10)\n",
    "\n",
    "    return xbest"
   ],
   "metadata": {
    "collapsed": false,
    "ExecuteTime": {
     "start_time": "2023-04-05T21:26:58.567142Z",
     "end_time": "2023-04-05T21:26:58.609536Z"
    }
   }
  },
  {
   "cell_type": "code",
   "execution_count": 35,
   "outputs": [
    {
     "name": "stdout",
     "output_type": "stream",
     "text": [
      "Best fitness of Generation 1: 0.8911780973451328\n",
      "Best fitness of Generation 2: 0.8911780973451328\n",
      "Best fitness of Generation 3: 0.9068030973451328\n",
      "Best fitness of Generation 4: 0.9068030973451328\n",
      "Best fitness of Generation 5: 0.9137168141592921\n",
      "Best fitness of Generation 6: 0.9137168141592921\n",
      "Best fitness of Generation 7: 0.9137168141592921\n",
      "Best fitness of Generation 8: 0.9137168141592921\n",
      "Best fitness of Generation 9: 0.9137168141592921\n",
      "Best fitness of Generation 10: 0.9167588495575221\n",
      "Best fitness of Generation 11: 0.9167588495575221\n",
      "Best fitness of Generation 12: 0.9167588495575221\n",
      "Best fitness of Generation 13: 0.9167588495575221\n",
      "Best fitness of Generation 14: 0.9173119469026548\n",
      "Best fitness of Generation 15: 0.9173119469026548\n",
      "Best fitness of Generation 16: 0.9202157079646017\n",
      "Best fitness of Generation 17: 0.9238108407079646\n",
      "Best fitness of Generation 18: 0.9238108407079646\n",
      "Best fitness of Generation 19: 0.925608407079646\n",
      "Best fitness of Generation 20: 0.925608407079646\n"
     ]
    }
   ],
   "source": [
    "fit_plt_aco = []\n",
    "for i in range(ng):\n",
    "    xbest = aco(x_aco)\n",
    "    xbest_fit = fitness(xbest)\n",
    "    fit_plt_aco.append(xbest_fit)\n",
    "    print(f\"Best fitness of Generation {i + 1}: {xbest_fit}\")\n",
    "    x_aco = xbest"
   ],
   "metadata": {
    "collapsed": false,
    "ExecuteTime": {
     "start_time": "2023-04-05T21:26:58.571414Z",
     "end_time": "2023-04-05T21:27:15.821098Z"
    }
   }
  },
  {
   "cell_type": "code",
   "execution_count": 36,
   "outputs": [
    {
     "data": {
      "text/plain": "<Figure size 432x288 with 1 Axes>",
      "image/png": "[encoded data removed]"
     },
     "metadata": {
      "needs_background": "light"
     },
     "output_type": "display_data"
    }
   ],
   "source": [
    "import matplotlib.pyplot as plt\n",
    "plt.xlabel(\"Generations\")\n",
    "plt.ylabel('Accuracy')\n",
    "plt.ylim([0,1])\n",
    "plt.xticks(np.arange(1, epochs + 1))\n",
    "plt.plot(np.arange(1,epochs + 1), fit_plt_aco)\n",
    "plt.show()"
   ],
   "metadata": {
    "collapsed": false,
    "ExecuteTime": {
     "start_time": "2023-04-05T21:27:15.821098Z",
     "end_time": "2023-04-05T21:27:15.939146Z"
    }
   }
  },
  {
   "cell_type": "code",
   "execution_count": 37,
   "outputs": [
    {
     "name": "stdout",
     "output_type": "stream",
     "text": [
      "              precision    recall  f1-score   support\n",
      "\n",
      "         0.0       0.95      0.91      0.93       915\n",
      "         1.0       0.91      0.95      0.93       893\n",
      "\n",
      "    accuracy                           0.93      1808\n",
      "   macro avg       0.93      0.93      0.93      1808\n",
      "weighted avg       0.93      0.93      0.93      1808\n",
      "\n"
     ]
    }
   ],
   "source": [
    "nn = NeuralNetwork(layer_size, x_aco)\n",
    "out = nn.forwardPropagation(x_test)\n",
    "print(metrics.classification_report(np.round(out), y_test))"
   ],
   "metadata": {
    "collapsed": false,
    "ExecuteTime": {
     "start_time": "2023-04-05T21:27:15.940351Z",
     "end_time": "2023-04-05T21:27:15.953140Z"
    }
   }
  },
  {
   "cell_type": "code",
   "execution_count": 37,
   "outputs": [],
   "source": [],
   "metadata": {
    "collapsed": false,
    "ExecuteTime": {
     "start_time": "2023-04-05T21:27:15.953140Z",
     "end_time": "2023-04-05T21:27:15.988319Z"
    }
   }
  },
  {
   "cell_type": "code",
   "execution_count": null,
   "outputs": [],
   "source": [],
   "metadata": {
    "collapsed": false
   }
  }
 ],
 "metadata": {
  "kernelspec": {
   "display_name": "Python 3",
   "language": "python",
   "name": "python3"
  },
  "language_info": {
   "codemirror_mode": {
    "name": "ipython",
    "version": 2
   },
   "file_extension": ".py",
   "mimetype": "text/x-python",
   "name": "python",
   "nbconvert_exporter": "python",
   "pygments_lexer": "ipython2",
   "version": "2.7.6"
  }
 },
 "nbformat": 4,
 "nbformat_minor": 0
}
